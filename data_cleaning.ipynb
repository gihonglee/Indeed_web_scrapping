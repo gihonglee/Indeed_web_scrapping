{
 "cells": [
  {
   "cell_type": "code",
   "execution_count": 79,
   "metadata": {},
   "outputs": [],
   "source": [
    "import pandas as pd\n",
    "import numpy as np\n",
    "from numpy import nan\n"
   ]
  },
  {
   "cell_type": "code",
   "execution_count": 80,
   "metadata": {},
   "outputs": [],
   "source": [
    "df = pd.read_csv(\"jobs14:03:24.csv\")"
   ]
  },
  {
   "cell_type": "code",
   "execution_count": 81,
   "metadata": {},
   "outputs": [
    {
     "data": {
      "text/html": [
       "<div>\n",
       "<style scoped>\n",
       "    .dataframe tbody tr th:only-of-type {\n",
       "        vertical-align: middle;\n",
       "    }\n",
       "\n",
       "    .dataframe tbody tr th {\n",
       "        vertical-align: top;\n",
       "    }\n",
       "\n",
       "    .dataframe thead th {\n",
       "        text-align: right;\n",
       "    }\n",
       "</style>\n",
       "<table border=\"1\" class=\"dataframe\">\n",
       "  <thead>\n",
       "    <tr style=\"text-align: right;\">\n",
       "      <th></th>\n",
       "      <th>Unnamed: 0</th>\n",
       "      <th>title</th>\n",
       "      <th>company</th>\n",
       "      <th>salary</th>\n",
       "      <th>location</th>\n",
       "      <th>company_rating</th>\n",
       "      <th>description</th>\n",
       "    </tr>\n",
       "  </thead>\n",
       "  <tbody>\n",
       "    <tr>\n",
       "      <th>0</th>\n",
       "      <td>0</td>\n",
       "      <td>Junior Data Scientist (NYC or Remote)</td>\n",
       "      <td>ViacomCBS</td>\n",
       "      <td>NaN</td>\n",
       "      <td>Remote in New York, NY+1 location</td>\n",
       "      <td>3.9</td>\n",
       "      <td>ViacomCBS (NASDAQ:\\nVIAC; VIACA) is a leading ...</td>\n",
       "    </tr>\n",
       "    <tr>\n",
       "      <th>1</th>\n",
       "      <td>1</td>\n",
       "      <td>Associate Data Scientist, Content Analytics</td>\n",
       "      <td>Spotify</td>\n",
       "      <td>NaN</td>\n",
       "      <td>Remote in Oregon+12 locations</td>\n",
       "      <td>4.3</td>\n",
       "      <td>Data, Research &amp; Insights\\nData Science\\nSpoti...</td>\n",
       "    </tr>\n",
       "    <tr>\n",
       "      <th>2</th>\n",
       "      <td>2</td>\n",
       "      <td>Data Scientist, TikTok Creation and Consumption</td>\n",
       "      <td>TikTok</td>\n",
       "      <td>NaN</td>\n",
       "      <td>San Francisco, CA+34 locations</td>\n",
       "      <td>3.5</td>\n",
       "      <td>TikTok is the leading destination for short-fo...</td>\n",
       "    </tr>\n",
       "    <tr>\n",
       "      <th>3</th>\n",
       "      <td>3</td>\n",
       "      <td>Data Scientist, Game Analytics &amp; Strategy</td>\n",
       "      <td>the NBA</td>\n",
       "      <td>NaN</td>\n",
       "      <td>New York, NY 10022 (Midtown area)+1 location</td>\n",
       "      <td>4.2</td>\n",
       "      <td>At the NBA, we’re passionate about growing and...</td>\n",
       "    </tr>\n",
       "    <tr>\n",
       "      <th>4</th>\n",
       "      <td>4</td>\n",
       "      <td>Data Scientist and Analytics Specialist</td>\n",
       "      <td>Delta</td>\n",
       "      <td>NaN</td>\n",
       "      <td>Atlanta, GA+4 locations</td>\n",
       "      <td>4.2</td>\n",
       "      <td>United States, Georgia, Atlanta\\nProduct Manag...</td>\n",
       "    </tr>\n",
       "  </tbody>\n",
       "</table>\n",
       "</div>"
      ],
      "text/plain": [
       "   Unnamed: 0                                            title    company  \\\n",
       "0           0            Junior Data Scientist (NYC or Remote)  ViacomCBS   \n",
       "1           1      Associate Data Scientist, Content Analytics    Spotify   \n",
       "2           2  Data Scientist, TikTok Creation and Consumption     TikTok   \n",
       "3           3        Data Scientist, Game Analytics & Strategy    the NBA   \n",
       "4           4          Data Scientist and Analytics Specialist      Delta   \n",
       "\n",
       "  salary                                      location  company_rating  \\\n",
       "0    NaN             Remote in New York, NY+1 location             3.9   \n",
       "1    NaN                 Remote in Oregon+12 locations             4.3   \n",
       "2    NaN                San Francisco, CA+34 locations             3.5   \n",
       "3    NaN  New York, NY 10022 (Midtown area)+1 location             4.2   \n",
       "4    NaN                       Atlanta, GA+4 locations             4.2   \n",
       "\n",
       "                                         description  \n",
       "0  ViacomCBS (NASDAQ:\\nVIAC; VIACA) is a leading ...  \n",
       "1  Data, Research & Insights\\nData Science\\nSpoti...  \n",
       "2  TikTok is the leading destination for short-fo...  \n",
       "3  At the NBA, we’re passionate about growing and...  \n",
       "4  United States, Georgia, Atlanta\\nProduct Manag...  "
      ]
     },
     "execution_count": 81,
     "metadata": {},
     "output_type": "execute_result"
    }
   ],
   "source": [
    "df.head()"
   ]
  },
  {
   "cell_type": "code",
   "execution_count": 82,
   "metadata": {},
   "outputs": [
    {
     "data": {
      "text/plain": [
       "(450, 7)"
      ]
     },
     "execution_count": 82,
     "metadata": {},
     "output_type": "execute_result"
    }
   ],
   "source": [
    "df.shape"
   ]
  },
  {
   "cell_type": "markdown",
   "metadata": {},
   "source": [
    "We will start to work from salary column. Goal here is to have \n",
    "1) mean value for the salary if they have a salary estimation\n",
    "2) or leave it as NaN\n",
    "\n",
    "First Let's figure out\n",
    "- How many NaN value we have\n",
    "- How many value that we can use\n",
    "- structure of non NaN values\n",
    "- extract only numbers"
   ]
  },
  {
   "cell_type": "code",
   "execution_count": 83,
   "metadata": {},
   "outputs": [
    {
     "name": "stdout",
     "output_type": "stream",
     "text": [
      "we have 394 Nan value for the salary column\n",
      "that indicates that we have only 56 values to use\n"
     ]
    }
   ],
   "source": [
    "print('we have', df['salary'].isna().sum(), 'Nan value for the salary column')\n",
    "print('that indicates that we have only 56 values to use')"
   ]
  },
  {
   "cell_type": "code",
   "execution_count": 84,
   "metadata": {},
   "outputs": [
    {
     "name": "stdout",
     "output_type": "stream",
     "text": [
      "11           $110,000 - $140,000 a year\n",
      "12            $72,272 - $176,300 a year\n",
      "17            $92,700 - $160,000 a year\n",
      "21                      $110,500 a year\n",
      "23            $83,690 - $160,000 a year\n",
      "26            $70,400 - $117,400 a year\n",
      "29            $76,000 - $148,000 a year\n",
      "33            $83,690 - $160,000 a year\n",
      "35           $120,000 - $223,000 a year\n",
      "36            $72,272 - $176,300 a year\n",
      "39     Estimated $47.7K – $60.3K a year\n",
      "41            $90,000 - $150,000 a year\n",
      "46            $90,000 - $150,000 a year\n",
      "55            $86,389 - $116,788 a year\n",
      "57            $70,400 - $117,400 a year\n",
      "58                       $95,000 a year\n",
      "69            $65,072 - $117,129 a year\n",
      "71           $125,000 - $175,000 a year\n",
      "72            $90,000 - $150,000 a year\n",
      "75           $118,248 - $127,208 a year\n",
      "93                       $98,000 a year\n",
      "96             $4,372 - $10,792 a month\n",
      "104           $90,000 - $161,000 a year\n",
      "112           $90,000 - $161,000 a year\n",
      "117           $96,400 - $144,600 a year\n",
      "133          $125,000 - $175,000 a year\n",
      "145          $104,000 - $156,000 a year\n",
      "165                      $95,000 a year\n",
      "170                     $157,500 a year\n",
      "171          $135,000 - $145,000 a year\n",
      "187          $106,500 - $130,200 a year\n",
      "191           $90,000 - $161,000 a year\n",
      "194           $70,928 - $107,058 a year\n",
      "204           $95,000 - $160,000 a year\n",
      "210                   $80 - $85 an hour\n",
      "212          $129,300 - $193,900 a year\n",
      "213          $100,000 - $218,163 a year\n",
      "228      Estimated $117K – $149K a year\n",
      "243          $148,484 - $176,300 a year\n",
      "262           $68,300 - $113,800 a year\n",
      "277          $108,000 - $200,000 a year\n",
      "297               Up to $130,000 a year\n",
      "298           $90,000 - $120,000 a year\n",
      "310           $95,000 - $186,000 a year\n",
      "319               Up to $130,000 a year\n",
      "337            $80,000 - $90,000 a year\n",
      "341    Estimated $63.7K – $80.7K a year\n",
      "347                      $82,400 a year\n",
      "382          $107,000 - $194,000 a year\n",
      "387           $95,000 - $200,000 a year\n",
      "397           $72,000 - $108,500 a year\n",
      "408                Up to $65,000 a year\n",
      "410          $135,000 - $165,000 a year\n",
      "417                     $125,000 a year\n",
      "422               Up to $165,700 a year\n",
      "447          $174,000 - $259,000 a year\n",
      "Name: salary, dtype: object\n"
     ]
    }
   ],
   "source": [
    "salary = df['salary']\n",
    "salary_notnull = salary[salary.notnull()]\n",
    "print(salary_notnull)\n"
   ]
  },
  {
   "cell_type": "markdown",
   "metadata": {},
   "source": [
    "Now let's extract numbers only from the salary columns"
   ]
  },
  {
   "cell_type": "code",
   "execution_count": 85,
   "metadata": {},
   "outputs": [],
   "source": [
    "def str_contains_n(str):\n",
    "    num_str = \"0123456789\"\n",
    "    word_list = []\n",
    "    words = str.split(\" \")\n",
    "    for word in words:\n",
    "        word_has_n = False\n",
    "        for char in word:\n",
    "            if char in num_str:\n",
    "                word_has_n = True\n",
    "        if word_has_n:\n",
    "            word_list.append(word)\n",
    "    result = '-'.join(word_list)\n",
    "    return result"
   ]
  },
  {
   "cell_type": "code",
   "execution_count": 86,
   "metadata": {},
   "outputs": [],
   "source": [
    "salary = salary.apply(lambda x: str_contains_n(x) if isinstance(x, str) else None)\n",
    "salary = salary.apply(lambda x: x.lower().replace(\"$\",\"\") if x != None else None)\n",
    "salary = salary.apply(lambda x: x.lower().replace(\"a year\",\"\") if x != None else None) \n",
    "salary = salary.apply(lambda x: x.lower().replace(\"Estimated\",\"\") if x != None else None)\n",
    "k_unit = salary.apply(lambda x: True if \"k\" in x!= None and x.lower() else False)\n",
    "min = salary.apply(lambda x: x.lower().replace(\"$\",\"\").replace(\"k\",\"\") if x != None else None)\n",
    "max =  \n",
    "\n",
    "# minus_kd = salary.apply(lambda x: x.remove('K').remove('$'))\n",
    "# min_hr = minus_kd.apply(lambda x: x.lower().replace('per hour','').replace('employer provided salary:',''))"
   ]
  }
 ],
 "metadata": {
  "interpreter": {
   "hash": "949777d72b0d2535278d3dc13498b2535136f6dfe0678499012e853ee9abcab1"
  },
  "kernelspec": {
   "display_name": "Python 3.9.7 64-bit",
   "language": "python",
   "name": "python3"
  },
  "language_info": {
   "codemirror_mode": {
    "name": "ipython",
    "version": 3
   },
   "file_extension": ".py",
   "mimetype": "text/x-python",
   "name": "python",
   "nbconvert_exporter": "python",
   "pygments_lexer": "ipython3",
   "version": "3.9.7"
  },
  "orig_nbformat": 4
 },
 "nbformat": 4,
 "nbformat_minor": 2
}
